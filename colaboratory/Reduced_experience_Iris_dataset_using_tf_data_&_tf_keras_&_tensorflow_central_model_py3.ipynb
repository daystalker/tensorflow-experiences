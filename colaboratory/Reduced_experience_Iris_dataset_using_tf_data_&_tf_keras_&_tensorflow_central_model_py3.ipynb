{
  "nbformat": 4,
  "nbformat_minor": 0,
  "metadata": {
    "colab": {
      "name": "Reduced experience - Iris dataset using tf.data & tf.keras & tensorflow - central model - py3.ipynb",
      "version": "0.3.2",
      "provenance": [],
      "private_outputs": true,
      "include_colab_link": true
    },
    "kernelspec": {
      "name": "python3",
      "display_name": "Python 3"
    }
  },
  "cells": [
    {
      "cell_type": "markdown",
      "metadata": {
        "id": "view-in-github",
        "colab_type": "text"
      },
      "source": [
        "<a href=\"https://colab.research.google.com/github/nbortolotti/tensorflow-experiences/blob/master/colaboratory/Reduced_experience_Iris_dataset_using_tf_data_%26_tf_keras_%26_tensorflow_central_model_py3.ipynb\" target=\"_parent\"><img src=\"https://colab.research.google.com/assets/colab-badge.svg\" alt=\"Open In Colab\"/></a>"
      ]
    },
    {
      "metadata": {
        "id": "bU9KdPhn7S9A",
        "colab_type": "text"
      },
      "cell_type": "markdown",
      "source": [
        "# Imports"
      ]
    },
    {
      "metadata": {
        "id": "wsod0gEK4qb0",
        "colab_type": "code",
        "colab": {}
      },
      "cell_type": "code",
      "source": [
        "import tensorflow as tf\n",
        "import pandas as pd\n",
        "import numpy as np"
      ],
      "execution_count": 0,
      "outputs": []
    },
    {
      "metadata": {
        "id": "zcxZjfxRwKxZ",
        "colab_type": "code",
        "colab": {}
      },
      "cell_type": "code",
      "source": [
        "tf.VERSION"
      ],
      "execution_count": 0,
      "outputs": []
    },
    {
      "metadata": {
        "id": "zDiGuaEk7E-o",
        "colab_type": "text"
      },
      "cell_type": "markdown",
      "source": [
        "# Support elements"
      ]
    },
    {
      "metadata": {
        "id": "akGuWCfv4xQI",
        "colab_type": "code",
        "colab": {}
      },
      "cell_type": "code",
      "source": [
        "train_ds_url = \"http://download.tensorflow.org/data/iris_training.csv\"\n",
        "test_ds_url = \"http://download.tensorflow.org/data/iris_test.csv\"\n",
        "ds_columns = ['SepalLength', 'SepalWidth','PetalLength', 'PetalWidth', 'Plants']\n",
        "species = np.array(['Setosa', 'Versicolor', 'Virginica'], dtype=np.object)\n",
        "\n",
        "categories='Plants'\n",
        "\n",
        "train_path = tf.keras.utils.get_file(train_ds_url.split('/')[-1], train_ds_url)\n",
        "test_path = tf.keras.utils.get_file(test_ds_url.split('/')[-1], test_ds_url)\n",
        "\n",
        "train = pd.read_csv(train_path, names=ds_columns, header=0)\n",
        "train_plantfeatures, train_categories = train, train.pop(categories)\n",
        "\n",
        "test = pd.read_csv(test_path, names=ds_columns, header=0)\n",
        "test_plantfeatures, test_categories = test, test.pop(categories)\n",
        "  \n",
        "  \n",
        "y_categorical = tf.contrib.keras.utils.to_categorical(train_categories, num_classes=3)\n",
        "y_categorical_test = tf.contrib.keras.utils.to_categorical(test_categories, num_classes=3)\n",
        "  \n",
        "\n",
        "dataset = tf.data.Dataset.from_tensor_slices((train_plantfeatures, y_categorical))\n",
        "dataset = dataset.batch(32)\n",
        "dataset = dataset.shuffle(1000)\n",
        "dataset = dataset.repeat()\n",
        "  \n",
        "dataset_test = tf.data.Dataset.from_tensor_slices((test_plantfeatures, y_categorical_test))\n",
        "dataset_test = dataset_test.batch(32)\n",
        "dataset_test = dataset_test.shuffle(1000)\n",
        "dataset_test = dataset_test.repeat()"
      ],
      "execution_count": 0,
      "outputs": []
    },
    {
      "metadata": {
        "id": "pYUYLqvM7JfZ",
        "colab_type": "text"
      },
      "cell_type": "markdown",
      "source": [
        "# Model Design"
      ]
    },
    {
      "metadata": {
        "id": "FgXGFQ_-5517",
        "colab_type": "code",
        "colab": {}
      },
      "cell_type": "code",
      "source": [
        "model = tf.keras.Sequential([\n",
        "    tf.keras.layers.Dense(16, input_dim=4),\n",
        "    tf.keras.layers.Dense(3,activation=tf.nn.softmax),\n",
        "])\n",
        "\n",
        "model.compile(loss='categorical_crossentropy',\n",
        "             optimizer='sgd',\n",
        "              metrics=['accuracy'])\n"
      ],
      "execution_count": 0,
      "outputs": []
    },
    {
      "metadata": {
        "id": "xh0W__zO6Pnv",
        "colab_type": "code",
        "colab": {}
      },
      "cell_type": "code",
      "source": [
        "model.fit(dataset, steps_per_epoch=32, epochs=100, verbose=1)"
      ],
      "execution_count": 0,
      "outputs": []
    },
    {
      "metadata": {
        "id": "j6OUPN447L_O",
        "colab_type": "text"
      },
      "cell_type": "markdown",
      "source": [
        "# Use"
      ]
    },
    {
      "metadata": {
        "id": "OPMutEHJ7BQ6",
        "colab_type": "code",
        "colab": {}
      },
      "cell_type": "code",
      "source": [
        "new_specie = np.array([7.9,3.8,6.4,2.0])\n",
        "predition = np.around(model.predict(np.expand_dims(new_specie, axis=0))).astype(np.int)[0]\n",
        "print(\"This species should be %s\" % species[predition.astype(np.bool)][0])"
      ],
      "execution_count": 0,
      "outputs": []
    },
    {
      "metadata": {
        "id": "SWsVzynw084y",
        "colab_type": "code",
        "colab": {}
      },
      "cell_type": "code",
      "source": [
        "model.predict(np.expand_dims(new_specie, axis=0))"
      ],
      "execution_count": 0,
      "outputs": []
    }
  ]
}