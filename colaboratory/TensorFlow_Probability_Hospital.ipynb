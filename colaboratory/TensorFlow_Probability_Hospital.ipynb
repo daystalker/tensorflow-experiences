{
  "nbformat": 4,
  "nbformat_minor": 0,
  "metadata": {
    "colab": {
      "name": "TensorFlow_Probability_Hospital.ipynb",
      "version": "0.3.2",
      "provenance": [],
      "private_outputs": true,
      "include_colab_link": true
    },
    "kernelspec": {
      "name": "python3",
      "display_name": "Python 3"
    },
    "accelerator": "GPU"
  },
  "cells": [
    {
      "cell_type": "markdown",
      "metadata": {
        "id": "view-in-github",
        "colab_type": "text"
      },
      "source": [
        "<a href=\"https://colab.research.google.com/github/nbortolotti/tensorflow-experiences/blob/develop/colaboratory/TensorFlow_Probability_Hospital.ipynb\" target=\"_parent\"><img src=\"https://colab.research.google.com/assets/colab-badge.svg\" alt=\"Open In Colab\"/></a>"
      ]
    },
    {
      "metadata": {
        "id": "NROHtK6n9Myk",
        "colab_type": "text"
      },
      "cell_type": "markdown",
      "source": [
        "# Introduction"
      ]
    },
    {
      "metadata": {
        "id": "OPZCh642K8L-",
        "colab_type": "code",
        "colab": {}
      },
      "cell_type": "code",
      "source": [
        "import tensorflow as tf\n",
        "import tensorflow_probability as tfp"
      ],
      "execution_count": 0,
      "outputs": []
    },
    {
      "metadata": {
        "id": "eDyhqGaaLRmH",
        "colab_type": "code",
        "colab": {}
      },
      "cell_type": "code",
      "source": [
        "tfe = tf.contrib.eager\n",
        "tfd = tfp.distributions"
      ],
      "execution_count": 0,
      "outputs": []
    },
    {
      "metadata": {
        "id": "ZR_kZJl2OIAg",
        "colab_type": "code",
        "colab": {}
      },
      "cell_type": "code",
      "source": [
        "sess = tf.InteractiveSession()"
      ],
      "execution_count": 0,
      "outputs": []
    },
    {
      "metadata": {
        "id": "t7An5AmtS9nb",
        "colab_type": "text"
      },
      "cell_type": "markdown",
      "source": [
        "Hospital records show that of patients suffering from a certain disease, 75% die of it. What is the probability that of 6 randomly selected patients, 4 will recover?\n",
        "\n",
        "*This is a binomial distribution because there are only 2 outcomes (the patient dies, or does not).\n",
        "\n",
        "Conditions: \n",
        "*   die or not [die 75%]\n",
        "*   n=6\n",
        "*   p=0.25\n"
      ]
    },
    {
      "metadata": {
        "id": "nCUuN4y8T1f2",
        "colab_type": "text"
      },
      "cell_type": "markdown",
      "source": [
        "https://www.tensorflow.org/probability/api_docs/python/tfp/distributions/Binomial"
      ]
    },
    {
      "metadata": {
        "id": "27z9B6Fa9Ryq",
        "colab_type": "text"
      },
      "cell_type": "markdown",
      "source": [
        "# Modeling"
      ]
    },
    {
      "metadata": {
        "id": "yow8OfQGS80j",
        "colab_type": "code",
        "colab": {}
      },
      "cell_type": "code",
      "source": [
        "n = 6.\n",
        "count = tf.range(\n",
        "    start=0.,\n",
        "    limit= n +1)\n",
        "\n",
        "p = tf.constant([0.25])\n",
        "dist = tfd.Binomial(total_count=n, probs=p).prob(count)"
      ],
      "execution_count": 0,
      "outputs": []
    },
    {
      "metadata": {
        "id": "qa4MYhNEVXvG",
        "colab_type": "code",
        "colab": {}
      },
      "cell_type": "code",
      "source": [
        "dist.eval() #support line to analyze tensor"
      ],
      "execution_count": 0,
      "outputs": []
    },
    {
      "metadata": {
        "id": "L7eE46Mi9acR",
        "colab_type": "text"
      },
      "cell_type": "markdown",
      "source": [
        "## Support operations"
      ]
    },
    {
      "metadata": {
        "id": "3ry0kIgG6MRV",
        "colab_type": "code",
        "colab": {}
      },
      "cell_type": "code",
      "source": [
        "# routine to convert tensors\n",
        "def tensorConvertor(tensors):\n",
        "  if tf.executing_eagerly():\n",
        "    return tf.contrib.framework.nest.pack_sequence_as(\n",
        "        tensors,\n",
        "        [t.numpy() if tf.contrib.framework.is_tensor(t) else t\n",
        "         for t in tf.contrib.framework.nest.flatten(tensors)])\n",
        "  return sess.run(tensors)"
      ],
      "execution_count": 0,
      "outputs": []
    },
    {
      "metadata": {
        "id": "p_g8TmrNVBxh",
        "colab_type": "code",
        "colab": {}
      },
      "cell_type": "code",
      "source": [
        "dist_np= tensorConvertor(dist) #support line to conver tensor"
      ],
      "execution_count": 0,
      "outputs": []
    },
    {
      "metadata": {
        "id": "WPVvz2HSqzYP",
        "colab_type": "code",
        "colab": {}
      },
      "cell_type": "code",
      "source": [
        "dist_np #support line to analyze  array"
      ],
      "execution_count": 0,
      "outputs": []
    },
    {
      "metadata": {
        "id": "qomX_jy79VRG",
        "colab_type": "text"
      },
      "cell_type": "markdown",
      "source": [
        "# Visualization"
      ]
    },
    {
      "metadata": {
        "id": "TG7_zBRYZE9P",
        "colab_type": "code",
        "colab": {}
      },
      "cell_type": "code",
      "source": [
        "import matplotlib.pyplot as plt;\n",
        "import numpy as np;"
      ],
      "execution_count": 0,
      "outputs": []
    },
    {
      "metadata": {
        "id": "hTuUpcGLrIqa",
        "colab_type": "code",
        "colab": {}
      },
      "cell_type": "code",
      "source": [
        "for i, v in enumerate(dist_np):\n",
        "  objects = (0, 1, 2, 3, 4, 5, 6)\n",
        "  y_pos = np.arange(len(objects))\n",
        "\n",
        "  plt.barh(y_pos, dist_np, align='center', alpha=0.5)\n",
        "  plt.ylabel('Patients')\n",
        "  plt.xlabel('Probability')\n",
        "  plt.title('Recorver probability patients Hospital')\n",
        "  plt.text(v, i , str(v), color='green', fontweight='bold')"
      ],
      "execution_count": 0,
      "outputs": []
    }
  ]
}