{
  "nbformat": 4,
  "nbformat_minor": 0,
  "metadata": {
    "colab": {
      "name": "TensorFlow_Probability_Hospital.ipynb",
      "version": "0.3.2",
      "provenance": [],
      "private_outputs": true,
      "include_colab_link": true
    },
    "kernelspec": {
      "name": "python3",
      "display_name": "Python 3"
    }
  },
  "cells": [
    {
      "cell_type": "markdown",
      "metadata": {
        "id": "view-in-github",
        "colab_type": "text"
      },
      "source": [
        "<a href=\"https://colab.research.google.com/github/nbortolotti/tensorflow-experiences/blob/develop/colaboratory/TensorFlow_Probability_Hospital.ipynb\" target=\"_parent\"><img src=\"https://colab.research.google.com/assets/colab-badge.svg\" alt=\"Open In Colab\"/></a>"
      ]
    },
    {
      "metadata": {
        "id": "OPZCh642K8L-",
        "colab_type": "code",
        "colab": {}
      },
      "cell_type": "code",
      "source": [
        "import tensorflow as tf\n",
        "tfe = tf.contrib.eager"
      ],
      "execution_count": 0,
      "outputs": []
    },
    {
      "metadata": {
        "id": "eDyhqGaaLRmH",
        "colab_type": "code",
        "colab": {}
      },
      "cell_type": "code",
      "source": [
        "import tensorflow_probability as tfp\n",
        "tfd = tfp.distributions"
      ],
      "execution_count": 0,
      "outputs": []
    },
    {
      "metadata": {
        "id": "ZR_kZJl2OIAg",
        "colab_type": "code",
        "colab": {}
      },
      "cell_type": "code",
      "source": [
        "sess = tf.InteractiveSession()"
      ],
      "execution_count": 0,
      "outputs": []
    },
    {
      "metadata": {
        "id": "t7An5AmtS9nb",
        "colab_type": "text"
      },
      "cell_type": "markdown",
      "source": [
        "Hospital records show that of patients suffering from a certain disease, 75% die of it. What is the probability that of 6 randomly selected patients, 4 will recover?\n",
        "\n",
        "*This is a binomial distribution because there are only 2 outcomes (the patient dies, or does not).\n",
        "\n",
        "\n",
        "\n",
        "\n",
        "\n",
        "Conditions: die or not [die 75%]\n",
        "n=6\n",
        "p=0.25\n"
      ]
    },
    {
      "metadata": {
        "id": "nCUuN4y8T1f2",
        "colab_type": "text"
      },
      "cell_type": "markdown",
      "source": [
        "https://www.tensorflow.org/probability/api_docs/python/tfp/distributions/Binomial"
      ]
    },
    {
      "metadata": {
        "id": "yow8OfQGS80j",
        "colab_type": "code",
        "colab": {}
      },
      "cell_type": "code",
      "source": [
        "n = 6.\n",
        "count = tf.range(\n",
        "    start=0.,\n",
        "    limit= cc +1)\n",
        "\n",
        "p = tf.constant([0.25])\n",
        "dist = tfd.Binomial(total_count=n, probs=p).prob(count)"
      ],
      "execution_count": 0,
      "outputs": []
    },
    {
      "metadata": {
        "id": "qa4MYhNEVXvG",
        "colab_type": "code",
        "colab": {}
      },
      "cell_type": "code",
      "source": [
        "dist.eval()"
      ],
      "execution_count": 0,
      "outputs": []
    },
    {
      "metadata": {
        "id": "p_g8TmrNVBxh",
        "colab_type": "code",
        "colab": {}
      },
      "cell_type": "code",
      "source": [
        "dist_np= tensorConvertor(dist)\n"
      ],
      "execution_count": 0,
      "outputs": []
    },
    {
      "metadata": {
        "id": "WPVvz2HSqzYP",
        "colab_type": "code",
        "colab": {}
      },
      "cell_type": "code",
      "source": [
        "dist_np"
      ],
      "execution_count": 0,
      "outputs": []
    },
    {
      "metadata": {
        "id": "TG7_zBRYZE9P",
        "colab_type": "code",
        "colab": {}
      },
      "cell_type": "code",
      "source": [
        "import matplotlib.pyplot as plt;"
      ],
      "execution_count": 0,
      "outputs": []
    },
    {
      "metadata": {
        "id": "hTuUpcGLrIqa",
        "colab_type": "code",
        "colab": {}
      },
      "cell_type": "code",
      "source": [
        "objects = ('0', '1', '2', '3', '4', '5', '6')\n",
        "y_pos = np.arange(len(objects))\n",
        "\n",
        "plt.bar(y_pos, dist_np, align='center', alpha=0.5)\n",
        "plt.xticks(y_pos, objects)\n",
        "plt.ylabel('U')\n",
        "plt.title('Hospital')"
      ],
      "execution_count": 0,
      "outputs": []
    }
  ]
}